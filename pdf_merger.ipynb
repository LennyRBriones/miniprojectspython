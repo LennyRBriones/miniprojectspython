{
  "nbformat": 4,
  "nbformat_minor": 0,
  "metadata": {
    "colab": {
      "provenance": [],
      "mount_file_id": "1D5OXwW4Xy0u1E7yFdCfnNbLuadFdVm0H",
      "authorship_tag": "ABX9TyOfeqdDpSN8xwtMd7//67w3",
      "include_colab_link": true
    },
    "kernelspec": {
      "name": "python3",
      "display_name": "Python 3"
    },
    "language_info": {
      "name": "python"
    }
  },
  "cells": [
    {
      "cell_type": "markdown",
      "metadata": {
        "id": "view-in-github",
        "colab_type": "text"
      },
      "source": [
        "<a href=\"https://colab.research.google.com/github/LennyRBriones/miniprojectspython/blob/main/pdf_merger.ipynb\" target=\"_parent\"><img src=\"https://colab.research.google.com/assets/colab-badge.svg\" alt=\"Open In Colab\"/></a>"
      ]
    },
    {
      "cell_type": "code",
      "source": [
        "!pip install pypdf2 'PyPDF2<3.0'"
      ],
      "metadata": {
        "colab": {
          "base_uri": "https://localhost:8080/"
        },
        "id": "Sb3AJDdr1J7S",
        "outputId": "8b63c615-f26a-4a64-93fa-b10d56aa7f5d"
      },
      "execution_count": 1,
      "outputs": [
        {
          "output_type": "stream",
          "name": "stdout",
          "text": [
            "Collecting pypdf2\n",
            "  Downloading pypdf2-3.0.1-py3-none-any.whl (232 kB)\n",
            "\u001b[2K     \u001b[90m━━━━━━━━━━━━━━━━━━━━━━━━━━━━━━━━━━━━━━━\u001b[0m \u001b[32m232.6/232.6 kB\u001b[0m \u001b[31m3.2 MB/s\u001b[0m eta \u001b[36m0:00:00\u001b[0m\n",
            "\u001b[?25h  Downloading pypdf2-2.12.1-py3-none-any.whl (222 kB)\n",
            "\u001b[2K     \u001b[90m━━━━━━━━━━━━━━━━━━━━━━━━━━━━━━━━━━━━━━\u001b[0m \u001b[32m222.8/222.8 kB\u001b[0m \u001b[31m19.0 MB/s\u001b[0m eta \u001b[36m0:00:00\u001b[0m\n",
            "\u001b[?25hInstalling collected packages: pypdf2\n",
            "Successfully installed pypdf2-2.12.1\n"
          ]
        }
      ]
    },
    {
      "cell_type": "code",
      "execution_count": 2,
      "metadata": {
        "id": "zP9-1IV60MGm",
        "colab": {
          "base_uri": "https://localhost:8080/"
        },
        "outputId": "d7ea91c8-4557-4980-95c6-7e998527d258"
      },
      "outputs": [
        {
          "output_type": "stream",
          "name": "stdout",
          "text": [
            "28 has been merged in the file \"/content/drive/MyDrive/PDF practices Python/test_merged_pages/merged_file.pdf\"\n"
          ]
        }
      ],
      "source": [
        "import PyPDF2\n",
        "import os\n",
        "\n",
        "# Folder with the pdf files\n",
        "folder = \"/content/drive/MyDrive/PDF practices Python/test_split_pages\"\n",
        "\n",
        "\n",
        "# Empty list to fill with our files\n",
        "pdf_files = []\n",
        "\n",
        "for files in os.listdir(folder):\n",
        "  if files.endswith(\".pdf\"):\n",
        "    pdf_files.append(os.path.join(folder, files))\n",
        "\n",
        "\n",
        "# Sort pdf files by name\n",
        "pdf_files.sort()\n",
        "\n",
        "\n",
        "# Object PDFWriter\n",
        "pdf_writer = PyPDF2.PdfFileWriter()\n",
        "\n",
        "\n",
        "# Merge pdf & numerate pages\n",
        "for pdf_file in pdf_files:\n",
        "    pdf_reader = PyPDF2.PdfFileReader(open(pdf_file, \"rb\"))\n",
        "    for page_num in range(pdf_reader.getNumPages()):\n",
        "      page = pdf_reader.getPage(page_num)\n",
        "      pdf_writer.addPage(page)\n",
        "\n",
        "# output file name\n",
        "\n",
        "merged_file = \"/content/drive/MyDrive/PDF practices Python/test_merged_pages/merged_file.pdf\"\n",
        "\n",
        "# Save the output file\n",
        "\n",
        "with open(merged_file, \"wb\") as output_pdf:\n",
        "  pdf_writer.write(output_pdf)\n",
        "\n",
        "\n",
        "print(f'{len(pdf_files)} has been merged in the file \"{merged_file}\"')"
      ]
    }
  ]
}