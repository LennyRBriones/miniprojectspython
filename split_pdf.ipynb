{
  "nbformat": 4,
  "nbformat_minor": 0,
  "metadata": {
    "colab": {
      "provenance": [],
      "mount_file_id": "13gOlC0adIW4PNQPmcmq_6WPh--Wi29XX",
      "authorship_tag": "ABX9TyMzl75xfEXyDntPz3upn3jS",
      "include_colab_link": true
    },
    "kernelspec": {
      "name": "python3",
      "display_name": "Python 3"
    },
    "language_info": {
      "name": "python"
    }
  },
  "cells": [
    {
      "cell_type": "markdown",
      "metadata": {
        "id": "view-in-github",
        "colab_type": "text"
      },
      "source": [
        "<a href=\"https://colab.research.google.com/github/LennyRBriones/miniprojectspython/blob/main/split_pdf.ipynb\" target=\"_parent\"><img src=\"https://colab.research.google.com/assets/colab-badge.svg\" alt=\"Open In Colab\"/></a>"
      ]
    },
    {
      "cell_type": "code",
      "execution_count": 1,
      "metadata": {
        "colab": {
          "base_uri": "https://localhost:8080/"
        },
        "id": "24A-YfFdVHV1",
        "outputId": "009360fd-d605-489a-9ebb-acf433cab52b"
      },
      "outputs": [
        {
          "output_type": "stream",
          "name": "stdout",
          "text": [
            "Requirement already satisfied: Pypdf2 in /usr/local/lib/python3.10/dist-packages (3.0.1)\n"
          ]
        }
      ],
      "source": [
        "!pip install Pypdf2"
      ]
    },
    {
      "cell_type": "code",
      "source": [
        "from PyPDF2 import PdfReader, PdfWriter\n",
        "import os\n",
        "\n",
        "# output folder path\n",
        "output_folder = \"/content/drive/MyDrive/PDF practices Python/test_split_pages\"\n",
        "\n",
        "# input file path\n",
        "input_file = \"/content/drive/MyDrive/PDF practices Python/Copy of Document from Lenny R. Briones.pdf\"\n",
        "\n",
        "pdf_reader = PdfReader(input_file)\n",
        "\n",
        "for index, page in enumerate(pdf_reader.pages):\n",
        "  pdf_writer = PdfWriter()\n",
        "  pdf_writer.add_page(page)\n",
        "\n",
        "  output_file_path = os.path.join(output_folder, f\"page_{index + 1}.pdf\")\n",
        "  with open(output_file_path, \"wb\") as out:\n",
        "    pdf_writer.write(out)\n"
      ],
      "metadata": {
        "id": "jyou2KoFYJZp"
      },
      "execution_count": 2,
      "outputs": []
    }
  ]
}